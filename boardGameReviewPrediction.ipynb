{
  "nbformat": 4,
  "nbformat_minor": 0,
  "metadata": {
    "colab": {
      "name": "boardGameReviewPrediction.ipynb",
      "provenance": []
    },
    "kernelspec": {
      "name": "python3",
      "display_name": "Python 3"
    }
  },
  "cells": [
    {
      "cell_type": "code",
      "metadata": {
        "id": "OBoK5nffHuID",
        "colab_type": "code",
        "colab": {}
      },
      "source": [
        "import sys\n",
        "import matplotlib\n",
        "import pandas as pd\n",
        "import seaborn\n",
        "import sklearn\n",
        "import matplotlib.pyplot as plt\n",
        "from sklearn.model_selection import train_test_split\n",
        "from google.colab import files\n",
        "import seaborn as sns"
      ],
      "execution_count": 0,
      "outputs": []
    },
    {
      "cell_type": "code",
      "metadata": {
        "id": "epPR-8bEnN7S",
        "colab_type": "code",
        "colab": {}
      },
      "source": [
        "# For loading the data\n",
        "uploading = files.upload()\n",
        "game_data = pd.read_csv('games.csv')"
      ],
      "execution_count": 0,
      "outputs": []
    },
    {
      "cell_type": "code",
      "metadata": {
        "id": "adS44cWlqN_i",
        "colab_type": "code",
        "outputId": "fe4f3350-5c8a-4eea-8893-8bb0c8454b3d",
        "colab": {
          "base_uri": "https://localhost:8080/",
          "height": 134
        }
      },
      "source": [
        "# For printing the shape and also the name of columns\n",
        "print(game_data.shape)\n",
        "print(game_data.columns)"
      ],
      "execution_count": 0,
      "outputs": [
        {
          "output_type": "stream",
          "text": [
            "(81312, 20)\n",
            "Index(['id', 'type', 'name', 'yearpublished', 'minplayers', 'maxplayers',\n",
            "       'playingtime', 'minplaytime', 'maxplaytime', 'minage', 'users_rated',\n",
            "       'average_rating', 'bayes_average_rating', 'total_owners',\n",
            "       'total_traders', 'total_wanters', 'total_wishers', 'total_comments',\n",
            "       'total_weights', 'average_weight'],\n",
            "      dtype='object')\n"
          ],
          "name": "stdout"
        }
      ]
    },
    {
      "cell_type": "code",
      "metadata": {
        "id": "ciNVlIzSqo_S",
        "colab_type": "code",
        "outputId": "d6051846-307a-4367-c6a7-00b98a212fc7",
        "colab": {
          "base_uri": "https://localhost:8080/",
          "height": 265
        }
      },
      "source": [
        "# For making and displaying histogram of the ratings present in average_rating column\n",
        "result = plt.hist(game_data['average_rating'])\n"
      ],
      "execution_count": 0,
      "outputs": [
        {
          "output_type": "display_data",
          "data": {
            "image/png": "[encoded data removed]",
            "text/plain": [
              "<Figure size 432x288 with 1 Axes>"
            ]
          },
          "metadata": {
            "tags": []
          }
        }
      ]
    },
    {
      "cell_type": "code",
      "metadata": {
        "id": "8Ub17xhYtqEF",
        "colab_type": "code",
        "outputId": "507d27c2-91e8-4551-b0b2-2a9820e57ddd",
        "colab": {
          "base_uri": "https://localhost:8080/",
          "height": 753
        }
      },
      "source": [
        "# Now we need to print the first row of all the games with scores greater than zero as well as zero scores\n",
        "print('Games with score more than 0')\n",
        "print(game_data[game_data['average_rating'] >0 ].iloc[0]) #first column\n",
        "print('Games with score equal to 0')\n",
        "print(game_data[game_data['average_rating'] == 0].iloc[0])"
      ],
      "execution_count": 0,
      "outputs": [
        {
          "output_type": "stream",
          "text": [
            "Games with score more than 0\n",
            "id                                  12333\n",
            "type                            boardgame\n",
            "name                    Twilight Struggle\n",
            "yearpublished                        2005\n",
            "minplayers                              2\n",
            "maxplayers                              2\n",
            "playingtime                           180\n",
            "minplaytime                           180\n",
            "maxplaytime                           180\n",
            "minage                                 13\n",
            "users_rated                         20113\n",
            "average_rating                    8.33774\n",
            "bayes_average_rating              8.22186\n",
            "total_owners                        26647\n",
            "total_traders                         372\n",
            "total_wanters                        1219\n",
            "total_wishers                        5865\n",
            "total_comments                       5347\n",
            "total_weights                        2562\n",
            "average_weight                     3.4785\n",
            "Name: 0, dtype: object\n",
            "Games with score equal to 0\n",
            "id                             318\n",
            "type                     boardgame\n",
            "name                    Looney Leo\n",
            "yearpublished                    0\n",
            "minplayers                       0\n",
            "maxplayers                       0\n",
            "playingtime                      0\n",
            "minplaytime                      0\n",
            "maxplaytime                      0\n",
            "minage                           0\n",
            "users_rated                      0\n",
            "average_rating                   0\n",
            "bayes_average_rating             0\n",
            "total_owners                     0\n",
            "total_traders                    0\n",
            "total_wanters                    0\n",
            "total_wishers                    1\n",
            "total_comments                   0\n",
            "total_weights                    0\n",
            "average_weight                   0\n",
            "Name: 13048, dtype: object\n"
          ],
          "name": "stdout"
        }
      ]
    },
    {
      "cell_type": "code",
      "metadata": {
        "id": "xV0EDhdZwBwP",
        "colab_type": "code",
        "colab": {}
      },
      "source": [
        "# For removing rows with missing values in data\n",
        "game_data = game_data.dropna(axis =0)\n",
        "\n",
        "# For removing rows for no user reviews\n",
        "game_data = game_data[game_data['users_rated'] > 0]"
      ],
      "execution_count": 0,
      "outputs": []
    },
    {
      "cell_type": "code",
      "metadata": {
        "id": "0wM5EFcCwuZB",
        "colab_type": "code",
        "outputId": "f37c6844-e84e-4177-e8e3-3fab259392a0",
        "colab": {
          "base_uri": "https://localhost:8080/",
          "height": 265
        }
      },
      "source": [
        "#Now again making histogram of average_rating after removing those rows\n",
        "result = plt.hist(game_data['average_rating'])"
      ],
      "execution_count": 21,
      "outputs": [
        {
          "output_type": "display_data",
          "data": {
            "image/png": "[encoded data removed]",
            "text/plain": [
              "<Figure size 432x288 with 1 Axes>"
            ]
          },
          "metadata": {
            "tags": []
          }
        }
      ]
    },
    {
      "cell_type": "code",
      "metadata": {
        "id": "o9E8vLVkdE0R",
        "colab_type": "code",
        "outputId": "33c08088-49cb-4756-8b40-51c32e4bf7aa",
        "colab": {
          "base_uri": "https://localhost:8080/",
          "height": 824
        }
      },
      "source": [
        "# Now making the correlation matric\n",
        "correlation_matrix =  game_data.corr()\n",
        "figure = plt.figure(figsize = (15, 12))\n",
        "# Making heatmap using the correlation matrix made above\n",
        "sns.heatmap(correlation_matrix, vmax = 1.0 , square = True)\n",
        "plt.show()"
      ],
      "execution_count": 0,
      "outputs": [
        {
          "output_type": "display_data",
          "data": {
            "image/png": "[encoded data removed]",
            "text/plain": [
              "<Figure size 1080x864 with 2 Axes>"
            ]
          },
          "metadata": {
            "tags": []
          }
        }
      ]
    },
    {
      "cell_type": "code",
      "metadata": {
        "id": "IxlZbos9fyAh",
        "colab_type": "code",
        "colab": {}
      },
      "source": [
        "# Fetch all dataframe columns and filter them to remove unwanted data and also store the target variable on which prediction is done\n",
        "col = game_data.columns.tolist()\n",
        "col = [ i for i in col if i not in ['id', 'name', 'type', 'average_rating', 'bayes_average1_rating']]\n",
        "our_target = 'average_rating'"
      ],
      "execution_count": 0,
      "outputs": []
    },
    {
      "cell_type": "code",
      "metadata": {
        "id": "-8juU1LdmC79",
        "colab_type": "code",
        "outputId": "cc6cf578-73bd-4c55-ab04-6b0137fcd856",
        "colab": {
          "base_uri": "https://localhost:8080/",
          "height": 51
        }
      },
      "source": [
        "# Now generating test & training datasets and then generating training set\n",
        "from sklearn.model_selection import train_test_split\n",
        "train_data = game_data.sample(frac = 0.8, random_state = 1) #random state to replicate the results \n",
        "\n",
        "# Putting randomly selected data for testing which is not present in the training data\n",
        "test_data = game_data.loc[~game_data.index.isin(train_data.index)]\n",
        "\n",
        "# To check if our data is divided appropriately we will print the shapes of training and testing data\n",
        "print(train_data.shape)\n",
        "print(test_data.shape)"
      ],
      "execution_count": 20,
      "outputs": [
        {
          "output_type": "stream",
          "text": [
            "(45515, 20)\n",
            "(11379, 20)\n"
          ],
          "name": "stdout"
        }
      ]
    },
    {
      "cell_type": "code",
      "metadata": {
        "id": "K5dsDlFk9bYf",
        "colab_type": "code",
        "colab": {
          "base_uri": "https://localhost:8080/",
          "height": 34
        },
        "outputId": "6e565b97-399f-495d-9fca-2e1f339fad04"
      },
      "source": [
        "# Now we will import mean square error reporter and linear regression model\n",
        "from sklearn.metrics import mean_squared_error\n",
        "from sklearn.linear_model import LinearRegression\n",
        "\n",
        "# Now initializing model class and then fitting model for training data\n",
        "LinearReg = LinearRegression() \n",
        "LinearReg.fit(train_data[col], train_data[our_target])"
      ],
      "execution_count": 23,
      "outputs": [
        {
          "output_type": "execute_result",
          "data": {
            "text/plain": [
              "LinearRegression(copy_X=True, fit_intercept=True, n_jobs=None, normalize=False)"
            ]
          },
          "metadata": {
            "tags": []
          },
          "execution_count": 23
        }
      ]
    },
    {
      "cell_type": "code",
      "metadata": {
        "id": "6BC17jeY-2SI",
        "colab_type": "code",
        "colab": {
          "base_uri": "https://localhost:8080/",
          "height": 34
        },
        "outputId": "e926674f-2e6f-4b5c-88db-e439173568fe"
      },
      "source": [
        "# Now we will generate predictions for the test_data set and then compute error between actual values and the test predicted values using mean_squared_error \n",
        "test_predictions = LinearReg.predict(test_data[col])\n",
        "mean_squared_error(test_predictions, test_data[our_target])"
      ],
      "execution_count": 24,
      "outputs": [
        {
          "output_type": "execute_result",
          "data": {
            "text/plain": [
              "2.0789874864728817"
            ]
          },
          "metadata": {
            "tags": []
          },
          "execution_count": 24
        }
      ]
    },
    {
      "cell_type": "code",
      "metadata": {
        "id": "mX685GOrDD2t",
        "colab_type": "code",
        "colab": {
          "base_uri": "https://localhost:8080/",
          "height": 136
        },
        "outputId": "e5154574-a617-4db4-b21c-8e495ac576b2"
      },
      "source": [
        "# We will import Random Forest Regressor model, initialize it, fit it to the data.\n",
        "from sklearn.ensemble import RandomForestRegressor\n",
        "\n",
        "RandomForestReg = RandomForestRegressor(n_estimators = 150, min_samples_leaf = 10, bootstrap = True, random_state = 1, verbose = 0)\n",
        "\n",
        "RandomForestReg.fit(train_data[col], train_data[our_target])"
      ],
      "execution_count": 25,
      "outputs": [
        {
          "output_type": "execute_result",
          "data": {
            "text/plain": [
              "RandomForestRegressor(bootstrap=True, criterion='mse', max_depth=None,\n",
              "                      max_features='auto', max_leaf_nodes=None,\n",
              "                      min_impurity_decrease=0.0, min_impurity_split=None,\n",
              "                      min_samples_leaf=10, min_samples_split=2,\n",
              "                      min_weight_fraction_leaf=0.0, n_estimators=150,\n",
              "                      n_jobs=None, oob_score=False, random_state=1, verbose=0,\n",
              "                      warm_start=False)"
            ]
          },
          "metadata": {
            "tags": []
          },
          "execution_count": 25
        }
      ]
    },
    {
      "cell_type": "code",
      "metadata": {
        "id": "b4x9Dh-fFv9Z",
        "colab_type": "code",
        "colab": {
          "base_uri": "https://localhost:8080/",
          "height": 34
        },
        "outputId": "14f6e150-6666-4082-9e71-873353a17126"
      },
      "source": [
        "# Now we will generate predictions for the test_data set and then compute error between actual values and the test predicted values using mean_squared_error \n",
        "test_predictions = RandomForestReg.predict(test_data[col])\n",
        "mean_squared_error(test_predictions, test_data[our_target])"
      ],
      "execution_count": 26,
      "outputs": [
        {
          "output_type": "execute_result",
          "data": {
            "text/plain": [
              "1.3997819611108409"
            ]
          },
          "metadata": {
            "tags": []
          },
          "execution_count": 26
        }
      ]
    },
    {
      "cell_type": "code",
      "metadata": {
        "id": "hCPGGuTYGTwv",
        "colab_type": "code",
        "colab": {
          "base_uri": "https://localhost:8080/",
          "height": 51
        },
        "outputId": "5efdd02c-cf85-4fd7-a9f9-78527a7a0abc"
      },
      "source": [
        "# Our calculated mean_squared_error is less in Random Forest Regressor model, so it is better one to choose for predict our rating but we are using both for predicting the rating.\n",
        "LR_game_rating = LinearReg.predict(test_data[col].iloc[0].values.reshape(1, -1))\n",
        "RFR_game_rating = RandomForestReg.predict(test_data[col].iloc[0].values.reshape(1, -1))\n",
        "\n",
        "#Linear Regression rating predictions\n",
        "print(LR_game_rating)\n",
        "\n",
        "#Random Forest Regression rating predictions\n",
        "print(RFR_game_rating)"
      ],
      "execution_count": 27,
      "outputs": [
        {
          "output_type": "stream",
          "text": [
            "[8.14577287]\n",
            "[8.09951784]\n"
          ],
          "name": "stdout"
        }
      ]
    },
    {
      "cell_type": "code",
      "metadata": {
        "id": "TpyrvZ17JS_8",
        "colab_type": "code",
        "colab": {
          "base_uri": "https://localhost:8080/",
          "height": 34
        },
        "outputId": "cd5400bd-3cfc-4cac-f388-2ff416cc7a3d"
      },
      "source": [
        "test_data[our_target].iloc[0]"
      ],
      "execution_count": 31,
      "outputs": [
        {
          "output_type": "execute_result",
          "data": {
            "text/plain": [
              "8.07933"
            ]
          },
          "metadata": {
            "tags": []
          },
          "execution_count": 31
        }
      ]
    },
    {
      "cell_type": "markdown",
      "metadata": {
        "id": "ufAEenBzJ3HX",
        "colab_type": "text"
      },
      "source": [
        "It shows that the Random Forest Regressor model shows better accuracy in predicting the rating as compared to Linear Regression model since its predicted value is more closer to the calculated value."
      ]
    }
  ]
}