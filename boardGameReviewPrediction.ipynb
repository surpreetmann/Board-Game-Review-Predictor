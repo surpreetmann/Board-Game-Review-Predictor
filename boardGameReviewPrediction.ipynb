{
  "nbformat": 4,
  "nbformat_minor": 0,
  "metadata": {
    "colab": {
      "name": "boardGameReviewPrediction.ipynb",
      "provenance": []
    },
    "kernelspec": {
      "name": "python3",
      "display_name": "Python 3"
    }
  },
  "cells": [
    {
      "cell_type": "code",
      "metadata": {
        "id": "OBoK5nffHuID",
        "colab_type": "code",
        "colab": {}
      },
      "source": [
        "import sys\n",
        "import matplotlib\n",
        "import pandas as pd\n",
        "import seaborn\n",
        "import sklearn\n",
        "import matplotlib.pyplot as plt\n",
        "from sklearn.model_selection import train_test_split\n",
        "from google.colab import files\n",
        "import seaborn as sns"
      ],
      "execution_count": 0,
      "outputs": []
    },
    {
      "cell_type": "code",
      "metadata": {
        "id": "epPR-8bEnN7S",
        "colab_type": "code",
        "colab": {}
      },
      "source": [
        "# For loading the data\n",
        "uploading = files.upload()\n",
        "game_data = pd.read_csv('games.csv')"
      ],
      "execution_count": 0,
      "outputs": []
    },
    {
      "cell_type": "code",
      "metadata": {
        "id": "adS44cWlqN_i",
        "colab_type": "code",
        "colab": {
          "base_uri": "https://localhost:8080/",
          "height": 134
        },
        "outputId": "b9a56608-af95-439b-a749-8417727cf5c8"
      },
      "source": [
        "# For printing the shape and also the name of columns\n",
        "print(game_data.shape)\n",
        "print(game_data.columns)"
      ],
      "execution_count": 9,
      "outputs": [
        {
          "output_type": "stream",
          "text": [
            "(81312, 20)\n",
            "Index(['id', 'type', 'name', 'yearpublished', 'minplayers', 'maxplayers',\n",
            "       'playingtime', 'minplaytime', 'maxplaytime', 'minage', 'users_rated',\n",
            "       'average_rating', 'bayes_average_rating', 'total_owners',\n",
            "       'total_traders', 'total_wanters', 'total_wishers', 'total_comments',\n",
            "       'total_weights', 'average_weight'],\n",
            "      dtype='object')\n"
          ],
          "name": "stdout"
        }
      ]
    },
    {
      "cell_type": "code",
      "metadata": {
        "id": "ciNVlIzSqo_S",
        "colab_type": "code",
        "colab": {
          "base_uri": "https://localhost:8080/",
          "height": 265
        },
        "outputId": "14e5822a-1b23-4fca-e844-fa6c5488bccf"
      },
      "source": [
        "# For making and displaying histogram of the ratings present in average_rating column\n",
        "result = plt.hist(game_data['average_rating'])\n"
      ],
      "execution_count": 12,
      "outputs": [
        {
          "output_type": "display_data",
          "data": {
            "image/png": "[encoded data removed]",
            "text/plain": [
              "<Figure size 432x288 with 1 Axes>"
            ]
          },
          "metadata": {
            "tags": []
          }
        }
      ]
    },
    {
      "cell_type": "code",
      "metadata": {
        "id": "8Ub17xhYtqEF",
        "colab_type": "code",
        "colab": {
          "base_uri": "https://localhost:8080/",
          "height": 753
        },
        "outputId": "d8c806c8-ea99-4d55-edbb-4de1e7582d85"
      },
      "source": [
        "# Now we need to print the first row of all the games with scores greater than zero as well as zero scores\n",
        "print('Games with score more than 0')\n",
        "print(game_data[game_data['average_rating'] >0 ].iloc[0]) #first column\n",
        "print('Games with score equal to 0')\n",
        "print(game_data[game_data['average_rating'] == 0].iloc[0])"
      ],
      "execution_count": 14,
      "outputs": [
        {
          "output_type": "stream",
          "text": [
            "Games with score more than 0\n",
            "id                                  12333\n",
            "type                            boardgame\n",
            "name                    Twilight Struggle\n",
            "yearpublished                        2005\n",
            "minplayers                              2\n",
            "maxplayers                              2\n",
            "playingtime                           180\n",
            "minplaytime                           180\n",
            "maxplaytime                           180\n",
            "minage                                 13\n",
            "users_rated                         20113\n",
            "average_rating                    8.33774\n",
            "bayes_average_rating              8.22186\n",
            "total_owners                        26647\n",
            "total_traders                         372\n",
            "total_wanters                        1219\n",
            "total_wishers                        5865\n",
            "total_comments                       5347\n",
            "total_weights                        2562\n",
            "average_weight                     3.4785\n",
            "Name: 0, dtype: object\n",
            "Games with score equal to 0\n",
            "id                             318\n",
            "type                     boardgame\n",
            "name                    Looney Leo\n",
            "yearpublished                    0\n",
            "minplayers                       0\n",
            "maxplayers                       0\n",
            "playingtime                      0\n",
            "minplaytime                      0\n",
            "maxplaytime                      0\n",
            "minage                           0\n",
            "users_rated                      0\n",
            "average_rating                   0\n",
            "bayes_average_rating             0\n",
            "total_owners                     0\n",
            "total_traders                    0\n",
            "total_wanters                    0\n",
            "total_wishers                    1\n",
            "total_comments                   0\n",
            "total_weights                    0\n",
            "average_weight                   0\n",
            "Name: 13048, dtype: object\n"
          ],
          "name": "stdout"
        }
      ]
    },
    {
      "cell_type": "code",
      "metadata": {
        "id": "xV0EDhdZwBwP",
        "colab_type": "code",
        "colab": {}
      },
      "source": [
        "# For removing rows with missing values in data\n",
        "game_data = game_data.dropna(axis =0)\n",
        "\n",
        "# For removing rows for no user reviews\n",
        "game_data = game_data[game_data['users_rated'] > 0]"
      ],
      "execution_count": 0,
      "outputs": []
    },
    {
      "cell_type": "code",
      "metadata": {
        "id": "0wM5EFcCwuZB",
        "colab_type": "code",
        "colab": {
          "base_uri": "https://localhost:8080/",
          "height": 265
        },
        "outputId": "9fc90a91-f013-4188-bb86-ed249416a676"
      },
      "source": [
        "#Now again making histogram of average_rating after removing those rows\n",
        "result = plt.hist(game_data['average_rating'])"
      ],
      "execution_count": 17,
      "outputs": [
        {
          "output_type": "display_data",
          "data": {
            "image/png": "[encoded data removed]",
            "text/plain": [
              "<Figure size 432x288 with 1 Axes>"
            ]
          },
          "metadata": {
            "tags": []
          }
        }
      ]
    }
  ]
}